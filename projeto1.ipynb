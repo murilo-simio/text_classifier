{
  "nbformat": 4,
  "nbformat_minor": 0,
  "metadata": {
    "colab": {
      "name": "projeto1.ipynb",
      "provenance": []
    },
    "kernelspec": {
      "name": "python3",
      "display_name": "Python 3"
    },
    "language_info": {
      "name": "python"
    },
    "accelerator": "GPU"
  },
  "cells": [
    {
      "cell_type": "markdown",
      "source": [
        "# Reconhecimento de Entidades Nomeadas\n",
        "\n",
        "> Murilo Simionato Arnemann - 18/0107453\n",
        "\n",
        "\n",
        "Anotação de Textos e Processamento de Linguagem Natural\n",
        "\n",
        "2022 - Universidade de Brasília\n"
      ],
      "metadata": {
        "id": "mafXosSNKEBd"
      }
    },
    {
      "cell_type": "markdown",
      "source": [
        "\n",
        "## Clonando o dataset"
      ],
      "metadata": {
        "id": "zAjTwuoJK84K"
      }
    },
    {
      "cell_type": "code",
      "execution_count": 1,
      "metadata": {
        "id": "Gy7Zu4DGIh_B",
        "colab": {
          "base_uri": "https://localhost:8080/"
        },
        "outputId": "8ab278b1-7d7e-4873-bca5-57d1dc9a083a"
      },
      "outputs": [
        {
          "output_type": "stream",
          "name": "stdout",
          "text": [
            "fatal: destination path 'text_classifier' already exists and is not an empty directory.\n"
          ]
        }
      ],
      "source": [
        "!git clone https://github.com/murilo-simio/text_classifier"
      ]
    },
    {
      "cell_type": "code",
      "source": [
        "import pandas as pd"
      ],
      "metadata": {
        "id": "tvUBSiWCKDEU"
      },
      "execution_count": 2,
      "outputs": []
    },
    {
      "cell_type": "code",
      "source": [
        "df = pd.read_csv('/content/text_classifier/contratos_idato.csv')"
      ],
      "metadata": {
        "id": "TEa5A5D-LW48"
      },
      "execution_count": 3,
      "outputs": []
    },
    {
      "cell_type": "code",
      "source": [
        "df['id_ato'] = df['id_dodf'] + '-' + df['id_rel']"
      ],
      "metadata": {
        "id": "AiTNcZe8Lin1"
      },
      "execution_count": 4,
      "outputs": []
    },
    {
      "cell_type": "markdown",
      "source": [
        "## Clonando o Repositório"
      ],
      "metadata": {
        "id": "M0CZHLathN2q"
      }
    },
    {
      "cell_type": "code",
      "source": [
        "!git clone -s https://github.com/mstauffer/tcdf_text_classification.git"
      ],
      "metadata": {
        "colab": {
          "base_uri": "https://localhost:8080/"
        },
        "id": "e383NIElLol_",
        "outputId": "47862708-bc66-455e-c977-263a5eadd6ff"
      },
      "execution_count": 5,
      "outputs": [
        {
          "output_type": "stream",
          "name": "stdout",
          "text": [
            "fatal: destination path 'tcdf_text_classification' already exists and is not an empty directory.\n"
          ]
        }
      ]
    },
    {
      "cell_type": "code",
      "source": [
        "from tcdf_text_classification.iob_transformer import iob_transformer"
      ],
      "metadata": {
        "id": "M4VxvD7eNpY0"
      },
      "execution_count": 6,
      "outputs": []
    },
    {
      "cell_type": "code",
      "source": [
        "iob = iob_transformer('id_ato', 'texto', 'tipo_ent', keep_punctuation=True)"
      ],
      "metadata": {
        "id": "j7RcXvlmN_En"
      },
      "execution_count": 7,
      "outputs": []
    },
    {
      "cell_type": "code",
      "source": [
        "import nltk"
      ],
      "metadata": {
        "id": "JWsPpwI-N_fH"
      },
      "execution_count": 8,
      "outputs": []
    },
    {
      "cell_type": "code",
      "source": [
        "nltk.download('punkt')"
      ],
      "metadata": {
        "colab": {
          "base_uri": "https://localhost:8080/"
        },
        "id": "F56VsgisOXj9",
        "outputId": "4338b45c-e0cd-4f9f-c1a1-fa454ba4181a"
      },
      "execution_count": 9,
      "outputs": [
        {
          "output_type": "stream",
          "name": "stdout",
          "text": [
            "[nltk_data] Downloading package punkt to /root/nltk_data...\n",
            "[nltk_data]   Package punkt is already up-to-date!\n"
          ]
        },
        {
          "output_type": "execute_result",
          "data": {
            "text/plain": [
              "True"
            ]
          },
          "metadata": {},
          "execution_count": 9
        }
      ]
    },
    {
      "cell_type": "markdown",
      "source": [
        "## Pegando as labels do dataset"
      ],
      "metadata": {
        "id": "-Kh1PtzrhXn3"
      }
    },
    {
      "cell_type": "code",
      "source": [
        "atos, labels = iob.transform(df)"
      ],
      "metadata": {
        "id": "SY6ugX9VOaKF"
      },
      "execution_count": 10,
      "outputs": []
    },
    {
      "cell_type": "code",
      "source": [
        "%matplotlib inline"
      ],
      "metadata": {
        "id": "nbc4XDCsOg9m"
      },
      "execution_count": 11,
      "outputs": []
    },
    {
      "cell_type": "code",
      "source": [
        "import matplotlib.pyplot as plt\n",
        "import numpy as np\n",
        "import tensorflow as tf\n",
        "\n",
        "np.random.seed(0)\n",
        "plt.style.use(\"ggplot\")\n",
        "\n"
      ],
      "metadata": {
        "id": "w3-4U8AzPzPU"
      },
      "execution_count": 12,
      "outputs": []
    },
    {
      "cell_type": "code",
      "source": [
        "words = set()\n",
        "for ato in atos:\n",
        "  for termo in ato:\n",
        "    words.add(termo)\n",
        "words = list(words)\n",
        "words.append(\"ENDPAD\")\n",
        "words.append(\"UNK\")"
      ],
      "metadata": {
        "id": "cKUo-b33P2n6"
      },
      "execution_count": 13,
      "outputs": []
    },
    {
      "cell_type": "code",
      "source": [
        "tags = set()\n",
        "for label in labels:\n",
        "  for tag in label:\n",
        "    tags.add(tag)\n",
        "tags = list(tags)"
      ],
      "metadata": {
        "id": "kpgJP6A4Q9ZD"
      },
      "execution_count": 14,
      "outputs": []
    },
    {
      "cell_type": "markdown",
      "source": [
        "## Criando os dois dicionários"
      ],
      "metadata": {
        "id": "9Dz_Gns2huLY"
      }
    },
    {
      "cell_type": "code",
      "source": [
        "word2idx = {w: i + 1 for i, w in enumerate(words)}\n",
        "tag2idx = {t: i for i, t in enumerate(tags)}"
      ],
      "metadata": {
        "id": "ZccU2BhBRGcT"
      },
      "execution_count": 15,
      "outputs": []
    },
    {
      "cell_type": "code",
      "source": [
        "plt.hist([len(ato) for ato in atos], bins=50)\n",
        "plt.show()"
      ],
      "metadata": {
        "colab": {
          "base_uri": "https://localhost:8080/",
          "height": 0
        },
        "id": "kHAvZ2tuR5OP",
        "outputId": "7715848c-3c73-4ebf-ffdb-547abbc2d219"
      },
      "execution_count": 16,
      "outputs": [
        {
          "output_type": "display_data",
          "data": {
            "text/plain": [
              "<Figure size 432x288 with 1 Axes>"
            ],
            "image/png": "[encoded data removed]"
          },
          "metadata": {}
        }
      ]
    },
    {
      "cell_type": "code",
      "source": [
        "from tensorflow.keras.preprocessing.sequence import pad_sequences"
      ],
      "metadata": {
        "id": "PouQ6PfwRTE8"
      },
      "execution_count": 17,
      "outputs": []
    },
    {
      "cell_type": "code",
      "source": [
        "max_len = 250\n",
        "X = [[word2idx[w] for w in ato] for ato in atos]\n",
        "X = pad_sequences(maxlen=max_len, sequences=X, padding=\"post\", value=word2idx['ENDPAD'])\n",
        "\n",
        "y = [[tag2idx[w] for w in label] for label in labels]\n",
        "y = pad_sequences(maxlen=max_len, sequences=y, padding=\"post\", value=tag2idx[\"O\"])"
      ],
      "metadata": {
        "id": "lbqhWj9pRxzL"
      },
      "execution_count": 18,
      "outputs": []
    },
    {
      "cell_type": "markdown",
      "source": [
        "## Separando os dados em teste, validação e treinamento"
      ],
      "metadata": {
        "id": "sRrq3cSBh-5m"
      }
    },
    {
      "cell_type": "code",
      "source": [
        "from sklearn.model_selection import train_test_split\n",
        "x_train, x_test, y_train, y_test = train_test_split(X, y, test_size=0.2, random_state=1)\n",
        "x_test, x_val, y_test, y_val = train_test_split(x_test, y_test, test_size=0.5, random_state=1)"
      ],
      "metadata": {
        "id": "LnHRczXFSLB1"
      },
      "execution_count": 19,
      "outputs": []
    },
    {
      "cell_type": "markdown",
      "source": [
        "## Montando o modelo"
      ],
      "metadata": {
        "id": "FW-NLI75iNXb"
      }
    },
    {
      "cell_type": "code",
      "source": [
        "from tensorflow.keras import Model, Input\n",
        "from tensorflow.keras.layers import LSTM, Embedding, Dense\n",
        "from tensorflow.keras.layers import TimeDistributed, SpatialDropout1D, Bidirectional"
      ],
      "metadata": {
        "id": "v_Q_ReUjSctT"
      },
      "execution_count": 20,
      "outputs": []
    },
    {
      "cell_type": "code",
      "source": [
        "input_word = Input(shape=(max_len,))\n",
        "model = Embedding(input_dim=len(words)+1, output_dim=70, input_length=max_len)(input_word)\n",
        "model = SpatialDropout1D(0.1)(model)\n",
        "model = Bidirectional(LSTM(units=100, return_sequences=True, recurrent_dropout=0.1))(model)\n",
        "model = TimeDistributed(Dense(len(tags), activation=\"relu\"))(model)\n",
        "out = TimeDistributed(Dense(len(tags), activation=\"softmax\"))(model)\n",
        "model = Model(input_word, out)\n",
        "model.summary()"
      ],
      "metadata": {
        "colab": {
          "base_uri": "https://localhost:8080/"
        },
        "id": "dID8_GdTTTS-",
        "outputId": "607b5c02-e8af-4deb-e65f-cbe826e3e0cc"
      },
      "execution_count": 21,
      "outputs": [
        {
          "output_type": "stream",
          "name": "stdout",
          "text": [
            "WARNING:tensorflow:Layer lstm will not use cuDNN kernels since it doesn't meet the criteria. It will use a generic GPU kernel as fallback when running on GPU.\n",
            "WARNING:tensorflow:Layer lstm will not use cuDNN kernels since it doesn't meet the criteria. It will use a generic GPU kernel as fallback when running on GPU.\n",
            "WARNING:tensorflow:Layer lstm will not use cuDNN kernels since it doesn't meet the criteria. It will use a generic GPU kernel as fallback when running on GPU.\n",
            "Model: \"model\"\n",
            "_________________________________________________________________\n",
            " Layer (type)                Output Shape              Param #   \n",
            "=================================================================\n",
            " input_1 (InputLayer)        [(None, 250)]             0         \n",
            "                                                                 \n",
            " embedding (Embedding)       (None, 250, 70)           861210    \n",
            "                                                                 \n",
            " spatial_dropout1d (SpatialD  (None, 250, 70)          0         \n",
            " ropout1D)                                                       \n",
            "                                                                 \n",
            " bidirectional (Bidirectiona  (None, 250, 200)         136800    \n",
            " l)                                                              \n",
            "                                                                 \n",
            " time_distributed (TimeDistr  (None, 250, 72)          14472     \n",
            " ibuted)                                                         \n",
            "                                                                 \n",
            " time_distributed_1 (TimeDis  (None, 250, 72)          5256      \n",
            " tributed)                                                       \n",
            "                                                                 \n",
            "=================================================================\n",
            "Total params: 1,017,738\n",
            "Trainable params: 1,017,738\n",
            "Non-trainable params: 0\n",
            "_________________________________________________________________\n"
          ]
        }
      ]
    },
    {
      "cell_type": "code",
      "source": [
        "model.compile(optimizer=\"adam\",\n",
        "              loss=\"sparse_categorical_crossentropy\",\n",
        "              metrics=[\"accuracy\"])"
      ],
      "metadata": {
        "id": "osMgZr9ETjNZ"
      },
      "execution_count": 22,
      "outputs": []
    },
    {
      "cell_type": "code",
      "source": [
        "!pip install livelossplot"
      ],
      "metadata": {
        "colab": {
          "base_uri": "https://localhost:8080/"
        },
        "id": "rESW6OaZT4ms",
        "outputId": "5e59c03e-6584-419c-c448-1f3e9918a601"
      },
      "execution_count": 23,
      "outputs": [
        {
          "output_type": "stream",
          "name": "stdout",
          "text": [
            "Requirement already satisfied: livelossplot in /usr/local/lib/python3.7/dist-packages (0.5.5)\n",
            "Requirement already satisfied: bokeh in /usr/local/lib/python3.7/dist-packages (from livelossplot) (2.3.3)\n",
            "Requirement already satisfied: ipython==7.* in /usr/local/lib/python3.7/dist-packages (from livelossplot) (7.33.0)\n",
            "Requirement already satisfied: numpy<1.22 in /usr/local/lib/python3.7/dist-packages (from livelossplot) (1.21.6)\n",
            "Requirement already satisfied: matplotlib in /usr/local/lib/python3.7/dist-packages (from livelossplot) (3.2.2)\n",
            "Requirement already satisfied: matplotlib-inline in /usr/local/lib/python3.7/dist-packages (from ipython==7.*->livelossplot) (0.1.3)\n",
            "Requirement already satisfied: setuptools>=18.5 in /usr/local/lib/python3.7/dist-packages (from ipython==7.*->livelossplot) (57.4.0)\n",
            "Requirement already satisfied: decorator in /usr/local/lib/python3.7/dist-packages (from ipython==7.*->livelossplot) (4.4.2)\n",
            "Requirement already satisfied: traitlets>=4.2 in /usr/local/lib/python3.7/dist-packages (from ipython==7.*->livelossplot) (5.1.1)\n",
            "Requirement already satisfied: pickleshare in /usr/local/lib/python3.7/dist-packages (from ipython==7.*->livelossplot) (0.7.5)\n",
            "Requirement already satisfied: backcall in /usr/local/lib/python3.7/dist-packages (from ipython==7.*->livelossplot) (0.2.0)\n",
            "Requirement already satisfied: prompt-toolkit!=3.0.0,!=3.0.1,<3.1.0,>=2.0.0 in /usr/local/lib/python3.7/dist-packages (from ipython==7.*->livelossplot) (3.0.29)\n",
            "Requirement already satisfied: pexpect>4.3 in /usr/local/lib/python3.7/dist-packages (from ipython==7.*->livelossplot) (4.8.0)\n",
            "Requirement already satisfied: pygments in /usr/local/lib/python3.7/dist-packages (from ipython==7.*->livelossplot) (2.6.1)\n",
            "Requirement already satisfied: jedi>=0.16 in /usr/local/lib/python3.7/dist-packages (from ipython==7.*->livelossplot) (0.18.1)\n",
            "Requirement already satisfied: parso<0.9.0,>=0.8.0 in /usr/local/lib/python3.7/dist-packages (from jedi>=0.16->ipython==7.*->livelossplot) (0.8.3)\n",
            "Requirement already satisfied: ptyprocess>=0.5 in /usr/local/lib/python3.7/dist-packages (from pexpect>4.3->ipython==7.*->livelossplot) (0.7.0)\n",
            "Requirement already satisfied: wcwidth in /usr/local/lib/python3.7/dist-packages (from prompt-toolkit!=3.0.0,!=3.0.1,<3.1.0,>=2.0.0->ipython==7.*->livelossplot) (0.2.5)\n",
            "Requirement already satisfied: typing-extensions>=3.7.4 in /usr/local/lib/python3.7/dist-packages (from bokeh->livelossplot) (4.2.0)\n",
            "Requirement already satisfied: Jinja2>=2.9 in /usr/local/lib/python3.7/dist-packages (from bokeh->livelossplot) (2.11.3)\n",
            "Requirement already satisfied: pillow>=7.1.0 in /usr/local/lib/python3.7/dist-packages (from bokeh->livelossplot) (7.1.2)\n",
            "Requirement already satisfied: tornado>=5.1 in /usr/local/lib/python3.7/dist-packages (from bokeh->livelossplot) (5.1.1)\n",
            "Requirement already satisfied: packaging>=16.8 in /usr/local/lib/python3.7/dist-packages (from bokeh->livelossplot) (21.3)\n",
            "Requirement already satisfied: python-dateutil>=2.1 in /usr/local/lib/python3.7/dist-packages (from bokeh->livelossplot) (2.8.2)\n",
            "Requirement already satisfied: PyYAML>=3.10 in /usr/local/lib/python3.7/dist-packages (from bokeh->livelossplot) (3.13)\n",
            "Requirement already satisfied: MarkupSafe>=0.23 in /usr/local/lib/python3.7/dist-packages (from Jinja2>=2.9->bokeh->livelossplot) (2.0.1)\n",
            "Requirement already satisfied: pyparsing!=3.0.5,>=2.0.2 in /usr/local/lib/python3.7/dist-packages (from packaging>=16.8->bokeh->livelossplot) (3.0.8)\n",
            "Requirement already satisfied: six>=1.5 in /usr/local/lib/python3.7/dist-packages (from python-dateutil>=2.1->bokeh->livelossplot) (1.15.0)\n",
            "Requirement already satisfied: cycler>=0.10 in /usr/local/lib/python3.7/dist-packages (from matplotlib->livelossplot) (0.11.0)\n",
            "Requirement already satisfied: kiwisolver>=1.0.1 in /usr/local/lib/python3.7/dist-packages (from matplotlib->livelossplot) (1.4.2)\n"
          ]
        }
      ]
    },
    {
      "cell_type": "code",
      "source": [
        "from tensorflow.keras.callbacks import ModelCheckpoint, EarlyStopping\n",
        "from livelossplot.tf_keras import PlotLossesCallback"
      ],
      "metadata": {
        "id": "AMQqR-jUUAec"
      },
      "execution_count": 24,
      "outputs": []
    },
    {
      "cell_type": "markdown",
      "source": [
        "### Checkpoints para parar o treinamento caso não melhore"
      ],
      "metadata": {
        "id": "bw8vn7mBig-x"
      }
    },
    {
      "cell_type": "code",
      "source": [
        "chkpt = ModelCheckpoint(\"model.h5\", monitor='val_loss',verbose=1, save_best_only=True, save_weights_only=False, mode='min')\n",
        "early_stopping = EarlyStopping(monitor='val_accuracy', min_delta=0, patience=5, verbose=0, mode='max', baseline=None, restore_best_weights=False)\n",
        "callbacks = [PlotLossesCallback(), chkpt, early_stopping]\n"
      ],
      "metadata": {
        "id": "3MKOos6TUJET"
      },
      "execution_count": 25,
      "outputs": []
    },
    {
      "cell_type": "markdown",
      "source": [
        "## Treinamento e validação do modelo\n",
        "\n",
        "### Verifica se há uma GPU\n",
        "Se sim usa ela pra fazer o treinamento, se não usa a CPU\n",
        "\n",
        "\n",
        "---\n",
        "\n",
        "\n",
        "### Gera o gráfico da acurácia"
      ],
      "metadata": {
        "id": "2W43_Uo9inES"
      }
    },
    {
      "cell_type": "code",
      "source": [
        "device_name = tf.test.gpu_device_name()\n",
        "if device_name == '/device:GPU:0':\n",
        "  with tf.device('/device:GPU:0'):\n",
        "    history = model.fit(\n",
        "    x=x_train,\n",
        "    y=y_train,\n",
        "    validation_data=(x_test,y_test),\n",
        "    batch_size=32, \n",
        "    epochs=20,\n",
        "    callbacks=callbacks,\n",
        "    verbose=1\n",
        ")\n",
        "else:\n",
        "  history = model.fit(\n",
        "    x=x_train,\n",
        "    y=y_train,\n",
        "    validation_data=(x_test,y_test),\n",
        "    batch_size=32, \n",
        "    epochs=15,\n",
        "    callbacks=callbacks,\n",
        "    verbose=1\n",
        ")"
      ],
      "metadata": {
        "colab": {
          "base_uri": "https://localhost:8080/",
          "height": 741
        },
        "id": "1ANp8IhATPjQ",
        "outputId": "eb36008f-846e-46f0-e3b2-0a5df73ecef3"
      },
      "execution_count": 26,
      "outputs": [
        {
          "output_type": "display_data",
          "data": {
            "text/plain": [
              "<Figure size 864x576 with 2 Axes>"
            ],
            "image/png": "[encoded data removed]"
          },
          "metadata": {}
        },
        {
          "output_type": "stream",
          "name": "stdout",
          "text": [
            "accuracy\n",
            "\ttraining         \t (min:    0.708, max:    0.936, cur:    0.936)\n",
            "\tvalidation       \t (min:    0.755, max:    0.881, cur:    0.881)\n",
            "Loss\n",
            "\ttraining         \t (min:    0.241, max:    2.983, cur:    0.241)\n",
            "\tvalidation       \t (min:    0.586, max:    1.392, cur:    0.586)\n",
            "\n",
            "Epoch 20: val_loss improved from 0.58769 to 0.58612, saving model to model.h5\n",
            "19/19 [==============================] - 31s 2s/step - loss: 0.2405 - accuracy: 0.9361 - val_loss: 0.5861 - val_accuracy: 0.8807\n"
          ]
        }
      ]
    },
    {
      "cell_type": "markdown",
      "source": [
        "## Avalia o modelo com a acurácia e a loss"
      ],
      "metadata": {
        "id": "6DR00wEdjHRO"
      }
    },
    {
      "cell_type": "code",
      "source": [
        "model.evaluate(x_val,y_val)"
      ],
      "metadata": {
        "colab": {
          "base_uri": "https://localhost:8080/"
        },
        "id": "6EMNN6OeUf99",
        "outputId": "50adfde3-63e1-482b-f116-b1df2db69f87"
      },
      "execution_count": 27,
      "outputs": [
        {
          "output_type": "stream",
          "name": "stdout",
          "text": [
            "3/3 [==============================] - 0s 119ms/step - loss: 0.6695 - accuracy: 0.8613\n"
          ]
        },
        {
          "output_type": "execute_result",
          "data": {
            "text/plain": [
              "[0.6694818735122681, 0.8612602949142456]"
            ]
          },
          "metadata": {},
          "execution_count": 27
        }
      ]
    },
    {
      "cell_type": "markdown",
      "source": [
        "## Testa o modelo com os dados de validação"
      ],
      "metadata": {
        "id": "sRpv44VQm0kj"
      }
    },
    {
      "cell_type": "code",
      "source": [
        "y_pred_lstm = model.predict(x_val, batch_size=32, verbose=2)"
      ],
      "metadata": {
        "id": "Tw0b6E8FW9tc",
        "colab": {
          "base_uri": "https://localhost:8080/"
        },
        "outputId": "6279606b-4827-44df-de48-01afac6514c6"
      },
      "execution_count": 28,
      "outputs": [
        {
          "output_type": "stream",
          "name": "stdout",
          "text": [
            "3/3 - 1s - 1s/epoch - 364ms/step\n"
          ]
        }
      ]
    },
    {
      "cell_type": "code",
      "source": [
        "index_array = np.argmax(y_pred_lstm, axis=-1)"
      ],
      "metadata": {
        "id": "TaiTDMFAMlqM"
      },
      "execution_count": 29,
      "outputs": []
    },
    {
      "cell_type": "code",
      "source": [
        "!pip install seqeval"
      ],
      "metadata": {
        "colab": {
          "base_uri": "https://localhost:8080/"
        },
        "id": "p-z7C7S2M2a1",
        "outputId": "37026749-c073-418a-fdb8-d42b0eee8edd"
      },
      "execution_count": 30,
      "outputs": [
        {
          "output_type": "stream",
          "name": "stdout",
          "text": [
            "Requirement already satisfied: seqeval in /usr/local/lib/python3.7/dist-packages (1.2.2)\n",
            "Requirement already satisfied: scikit-learn>=0.21.3 in /usr/local/lib/python3.7/dist-packages (from seqeval) (1.0.2)\n",
            "Requirement already satisfied: numpy>=1.14.0 in /usr/local/lib/python3.7/dist-packages (from seqeval) (1.21.6)\n",
            "Requirement already satisfied: threadpoolctl>=2.0.0 in /usr/local/lib/python3.7/dist-packages (from scikit-learn>=0.21.3->seqeval) (3.1.0)\n",
            "Requirement already satisfied: joblib>=0.11 in /usr/local/lib/python3.7/dist-packages (from scikit-learn>=0.21.3->seqeval) (1.1.0)\n",
            "Requirement already satisfied: scipy>=1.1.0 in /usr/local/lib/python3.7/dist-packages (from scikit-learn>=0.21.3->seqeval) (1.4.1)\n"
          ]
        }
      ]
    },
    {
      "cell_type": "markdown",
      "source": [
        "## Calcula o f1-score"
      ],
      "metadata": {
        "id": "SJUcWoCKnBQf"
      }
    },
    {
      "cell_type": "code",
      "source": [
        "from seqeval.metrics import f1_score, classification_report"
      ],
      "metadata": {
        "id": "u9TLsZK2M6j1"
      },
      "execution_count": 31,
      "outputs": []
    },
    {
      "cell_type": "code",
      "source": [
        "idx2tag = {v: k for k, v in tag2idx.items()}"
      ],
      "metadata": {
        "id": "4NAiCQ_UNKn3"
      },
      "execution_count": 32,
      "outputs": []
    },
    {
      "cell_type": "code",
      "source": [
        "def numpy_to_seqeval(y_true, y_pred):\n",
        "\n",
        "  tags_preditas = []\n",
        "  ground_truth = []\n",
        "  for ato in y_pred:\n",
        "    tags_ato = []\n",
        "    for palavra in ato:\n",
        "      tags_ato.append(idx2tag[palavra])\n",
        "    tags_preditas.append(tags_ato)\n",
        "\n",
        "  for ato in y_true:\n",
        "    tags_ato = []\n",
        "    for palavra in ato:\n",
        "      tags_ato.append(idx2tag[palavra])\n",
        "    ground_truth.append(tags_ato)\n",
        "  \n",
        "  return ground_truth, tags_preditas"
      ],
      "metadata": {
        "id": "TjM_mSHJNSHC"
      },
      "execution_count": 33,
      "outputs": []
    },
    {
      "cell_type": "code",
      "source": [
        "gt, tags_pred = numpy_to_seqeval(y_val, index_array)"
      ],
      "metadata": {
        "id": "1V0397ymNeyB"
      },
      "execution_count": 34,
      "outputs": []
    },
    {
      "cell_type": "code",
      "source": [
        "f1_score(gt, tags_pred)"
      ],
      "metadata": {
        "colab": {
          "base_uri": "https://localhost:8080/"
        },
        "id": "M1YCZMS7NkpN",
        "outputId": "7e4214b6-f1c5-4ab9-d2f0-76c4a0fe3198"
      },
      "execution_count": 35,
      "outputs": [
        {
          "output_type": "execute_result",
          "data": {
            "text/plain": [
              "0.09289099526066352"
            ]
          },
          "metadata": {},
          "execution_count": 35
        }
      ]
    },
    {
      "cell_type": "markdown",
      "source": [
        "## Predição das entidades"
      ],
      "metadata": {
        "id": "S0VJnAeAnGT-"
      }
    },
    {
      "cell_type": "code",
      "source": [
        "from nltk import word_tokenize"
      ],
      "metadata": {
        "id": "zE4zA-haNo8a"
      },
      "execution_count": 36,
      "outputs": []
    },
    {
      "cell_type": "code",
      "source": [
        "def passito_passito(texto, max_len):\n",
        "    # se keep_punctuation == True\n",
        "    texto_tokenizado = word_tokenize(texto)\n",
        "    # caso contrário\n",
        "    # tokenizador = Regexptokenizer('\\w+')\n",
        "    # texto_tokenizado = tokenizador.tokenize(texto)\n",
        "    trechos = []\n",
        "    if len(texto_tokenizado) > max_len:\n",
        "        num_listas = len(texto_tokenizado) // max_len\n",
        "        idx_tokens_restantes = num_listas*max_len\n",
        "        inicio = 0\n",
        "        for num in range(num_listas):\n",
        "            fim = (num+1)*max_len\n",
        "            lista = texto_tokenizado[inicio:fim]\n",
        "            inicio = (num+1)*max_len\n",
        "            trechos.append(lista)\n",
        "            if num == num_listas-1:\n",
        "                lista = texto_tokenizado[idx_tokens_restantes:]\n",
        "                trechos.append(lista)\n",
        "    else:\n",
        "        trechos.append(texto_tokenizado)\n",
        "    return trechos"
      ],
      "metadata": {
        "id": "_AqmTV8WPtD7"
      },
      "execution_count": 37,
      "outputs": []
    },
    {
      "cell_type": "code",
      "source": [
        "def get_preds(texto, modelo, max_len, word2idx, idx2tag):\n",
        "    trechos = passito_passito(texto, 250)\n",
        "    preds_final = []\n",
        "    texto_tok_final = []\n",
        "\n",
        "    for trecho in trechos:\n",
        "        print(f'Qtd de tokens no texto dado: {len(trecho)}')\n",
        "        index_textos = []\n",
        "        for word in trecho:\n",
        "            if word in word2idx.keys():\n",
        "                index_textos.append(word2idx[word])\n",
        "            else:\n",
        "                index_textos.append(word2idx['UNK'])\n",
        "        index_textos = pad_sequences(maxlen=max_len, sequences=[index_textos], padding='post', value=len(word2idx)-1)\n",
        "        index_textos = np.array(index_textos)\n",
        "        pred = modelo.predict(index_textos)\n",
        "        pred = np.argmax(pred, axis=-1)\n",
        "        for token, rotulo in zip(trecho, pred[0]):\n",
        "            texto_tok_final.append(token)\n",
        "            preds_final.append(idx2tag[rotulo])\n",
        "\n",
        "    return texto_tok_final, preds_final"
      ],
      "metadata": {
        "id": "qTiE2BiIPwDJ"
      },
      "execution_count": 38,
      "outputs": []
    },
    {
      "cell_type": "code",
      "source": [
        "import pickle as pkl\n",
        "\n",
        "with open('word2idx.pkl', 'wb') as f:\n",
        "  pkl.dump(word2idx, f)\n",
        "\n",
        "with open('tag2idx.pkl', 'wb') as f:\n",
        "  pkl.dump(tag2idx, f)"
      ],
      "metadata": {
        "id": "bsYhsyv5QDjm"
      },
      "execution_count": 39,
      "outputs": []
    },
    {
      "cell_type": "code",
      "source": [
        "exemplo = 'NOMEAR THAIS OLIVEIRA, Farmacêutico Bioquímico-Farmácia, matrícula 17043700, para exercer o Cargo Público em Comissão, Símbolo CPC-08, SIGRH 55004987, de Gerente, da Gerência de Armazenamento e Distribuição de Medicamentos e Materiais Laboratoriais, da Diretoria de Logística, da Subsecretaria de Logística em Saúde, da Secretaria de Estado de Saúde do Distrito Federal.'\n",
        "exemplo_tok, preds = get_preds(exemplo, model, 250, word2idx, idx2tag)\n",
        "for token, tag in zip(exemplo_tok, preds):\n",
        "    print(f'{token}\\t {tag}')"
      ],
      "metadata": {
        "colab": {
          "base_uri": "https://localhost:8080/"
        },
        "id": "yatSivg8PyXr",
        "outputId": "6931e449-5bdc-4336-db39-92d529fac23d"
      },
      "execution_count": 40,
      "outputs": [
        {
          "output_type": "stream",
          "name": "stdout",
          "text": [
            "Qtd de tokens no texto dado: 61\n",
            "NOMEAR\t I-objeto_contrato\n",
            "THAIS\t I-objeto_contrato\n",
            "OLIVEIRA\t I-objeto_contrato\n",
            ",\t I-objeto_contrato\n",
            "Farmacêutico\t I-objeto_contrato\n",
            "Bioquímico-Farmácia\t I-objeto_contrato\n",
            ",\t I-objeto_contrato\n",
            "matrícula\t I-objeto_contrato\n",
            "17043700\t I-objeto_contrato\n",
            ",\t O\n",
            "para\t I-objeto_contrato\n",
            "exercer\t I-objeto_contrato\n",
            "o\t O\n",
            "Cargo\t O\n",
            "Público\t O\n",
            "em\t O\n",
            "Comissão\t O\n",
            ",\t O\n",
            "Símbolo\t O\n",
            "CPC-08\t O\n",
            ",\t O\n",
            "SIGRH\t O\n",
            "55004987\t O\n",
            ",\t O\n",
            "de\t O\n",
            "Gerente\t O\n",
            ",\t O\n",
            "da\t O\n",
            "Gerência\t O\n",
            "de\t O\n",
            "Armazenamento\t O\n",
            "e\t O\n",
            "Distribuição\t O\n",
            "de\t O\n",
            "Medicamentos\t O\n",
            "e\t O\n",
            "Materiais\t O\n",
            "Laboratoriais\t O\n",
            ",\t O\n",
            "da\t O\n",
            "Diretoria\t O\n",
            "de\t O\n",
            "Logística\t O\n",
            ",\t O\n",
            "da\t O\n",
            "Subsecretaria\t O\n",
            "de\t O\n",
            "Logística\t O\n",
            "em\t O\n",
            "Saúde\t O\n",
            ",\t O\n",
            "da\t O\n",
            "Secretaria\t O\n",
            "de\t O\n",
            "Estado\t O\n",
            "de\t O\n",
            "Saúde\t O\n",
            "do\t O\n",
            "Distrito\t O\n",
            "Federal\t O\n",
            ".\t O\n"
          ]
        }
      ]
    }
  ]
}